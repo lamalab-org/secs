{
 "cells": [
  {
   "cell_type": "code",
   "execution_count": 3,
   "metadata": {},
   "outputs": [
    {
     "name": "stdout",
     "output_type": "stream",
     "text": [
      "HSQCEncoder parameters: 57776460\n"
     ]
    },
    {
     "name": "stderr",
     "output_type": "stream",
     "text": [
      "\u001b[32m2025-06-19 08:43:30.271\u001b[0m | \u001b[1mINFO    \u001b[0m | \u001b[36mmolbind.models.components.custom_encoders\u001b[0m:\u001b[36m__init__\u001b[0m:\u001b[36m330\u001b[0m - \u001b[1m{'length_in': 1600, 'channels_in': 1, 'channels_out_1': 45, 'channels_out_2': 45, 'channels_out_3': 90, 'channels_out_4': 90, 'latent_dim': 512, 'num_conv_layers': 3, 'num_fc_layers': 2, 'conv_kernel_dim_1': 10, 'conv_stride_1': 1, 'conv_padding_1': 0, 'conv_dilation': 1, 'pool_kernel_dim_1': 5, 'pool_stride_1': 5, 'pool_padding_1': 0, 'pool_dilation': 1, 'conv_kernel_dim_2': 5, 'conv_stride_2': 1, 'conv_padding_2': 0, 'pool_kernel_dim_2': 3, 'pool_stride_2': 2, 'pool_padding_2': 0, 'conv_kernel_dim_3': 5, 'conv_stride_3': 1, 'conv_padding_3': 0, 'pool_kernel_dim_3': 2, 'pool_stride_3': 1, 'pool_padding_3': 0, 'fc_dim_1': 512, 'fc_dim_2': 512, 'conv_kernel_dim_4': 4, 'conv_stride_4': 1}\u001b[0m\n"
     ]
    },
    {
     "name": "stdout",
     "output_type": "stream",
     "text": [
      "hNmrCNNEncoder parameters: 86843744\n",
      "IrCNNEncoder parameters: 7147887\n",
      "cNmrEncoder parameters: 527616\n",
      "SmilesEncoder parameters: 44375040\n"
     ]
    }
   ],
   "source": [
    "from molbind.models import HSQCEncoder, IrCNNEncoder, SmilesEncoder, cNmrEncoder, hNmrCNNEncoder\n",
    "\n",
    "\n",
    "# compute the nr of parameters in the model\n",
    "def count_parameters(model):\n",
    "    return sum(p.numel() for p in model.parameters() if p.requires_grad)\n",
    "\n",
    "if __name__ == \"__main__\":\n",
    "    # HSQCEncoder\n",
    "    model = HSQCEncoder()\n",
    "    print(f\"HSQCEncoder parameters: {count_parameters(model)}\")\n",
    "\n",
    "    # hNmrCNNEncoder\n",
    "    model = hNmrCNNEncoder()\n",
    "    print(f\"hNmrCNNEncoder parameters: {count_parameters(model)}\")\n",
    "\n",
    "    # IrCNNEncoder\n",
    "    model = IrCNNEncoder()\n",
    "    print(f\"IrCNNEncoder parameters: {count_parameters(model)}\")\n",
    "    # input_dims: [512, 256, 256]\n",
    "    # output_dims: [256, 256, 512]\n",
    "    # latent_dim: 256\n",
    "    # cNmrEncoder\n",
    "    model = cNmrEncoder(input_dims=[512, 256, 256], output_dims=[256, 256, 512], latent_dim=256)\n",
    "    print(f\"cNmrEncoder parameters: {count_parameters(model)}\")\n",
    "\n",
    "    # SmilesEncoder\n",
    "    model = SmilesEncoder()\n",
    "    print(f\"SmilesEncoder parameters: {count_parameters(model)}\")"
   ]
  }
 ],
 "metadata": {
  "kernelspec": {
   "display_name": "molbind",
   "language": "python",
   "name": "python3"
  },
  "language_info": {
   "codemirror_mode": {
    "name": "ipython",
    "version": 3
   },
   "file_extension": ".py",
   "mimetype": "text/x-python",
   "name": "python",
   "nbconvert_exporter": "python",
   "pygments_lexer": "ipython3",
   "version": "3.11.11"
  }
 },
 "nbformat": 4,
 "nbformat_minor": 2
}
